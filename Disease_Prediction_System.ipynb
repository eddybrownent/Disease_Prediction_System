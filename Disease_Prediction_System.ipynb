{
 "cells": [
  {
   "cell_type": "markdown",
   "id": "09f4309e-1919-44fc-8212-2a35737f8398",
   "metadata": {},
   "source": [
    "# Medicine Recommendation System"
   ]
  },
  {
   "cell_type": "code",
   "execution_count": 1,
   "id": "78a67d41-e693-4884-ae05-cc210e844b69",
   "metadata": {},
   "outputs": [],
   "source": [
    "import pandas as pd"
   ]
  },
  {
   "cell_type": "code",
   "execution_count": 2,
   "id": "0180c475-a208-4ec6-bcd6-0bb68d8a08b5",
   "metadata": {},
   "outputs": [],
   "source": [
    "df = pd.read_csv('datasets/Training.csv')"
   ]
  },
  {
   "cell_type": "code",
   "execution_count": 3,
   "id": "47a69334-880a-46a0-9083-73344ca42c9c",
   "metadata": {},
   "outputs": [
    {
     "data": {
      "text/html": [
       "<div>\n",
       "<style scoped>\n",
       "    .dataframe tbody tr th:only-of-type {\n",
       "        vertical-align: middle;\n",
       "    }\n",
       "\n",
       "    .dataframe tbody tr th {\n",
       "        vertical-align: top;\n",
       "    }\n",
       "\n",
       "    .dataframe thead th {\n",
       "        text-align: right;\n",
       "    }\n",
       "</style>\n",
       "<table border=\"1\" class=\"dataframe\">\n",
       "  <thead>\n",
       "    <tr style=\"text-align: right;\">\n",
       "      <th></th>\n",
       "      <th>itching</th>\n",
       "      <th>skin_rash</th>\n",
       "      <th>nodal_skin_eruptions</th>\n",
       "      <th>continuous_sneezing</th>\n",
       "      <th>shivering</th>\n",
       "      <th>chills</th>\n",
       "      <th>joint_pain</th>\n",
       "      <th>stomach_pain</th>\n",
       "      <th>acidity</th>\n",
       "      <th>ulcers_on_tongue</th>\n",
       "      <th>...</th>\n",
       "      <th>blackheads</th>\n",
       "      <th>scurring</th>\n",
       "      <th>skin_peeling</th>\n",
       "      <th>silver_like_dusting</th>\n",
       "      <th>small_dents_in_nails</th>\n",
       "      <th>inflammatory_nails</th>\n",
       "      <th>blister</th>\n",
       "      <th>red_sore_around_nose</th>\n",
       "      <th>yellow_crust_ooze</th>\n",
       "      <th>prognosis</th>\n",
       "    </tr>\n",
       "  </thead>\n",
       "  <tbody>\n",
       "    <tr>\n",
       "      <th>0</th>\n",
       "      <td>1</td>\n",
       "      <td>1</td>\n",
       "      <td>1</td>\n",
       "      <td>0</td>\n",
       "      <td>0</td>\n",
       "      <td>0</td>\n",
       "      <td>0</td>\n",
       "      <td>0</td>\n",
       "      <td>0</td>\n",
       "      <td>0</td>\n",
       "      <td>...</td>\n",
       "      <td>0</td>\n",
       "      <td>0</td>\n",
       "      <td>0</td>\n",
       "      <td>0</td>\n",
       "      <td>0</td>\n",
       "      <td>0</td>\n",
       "      <td>0</td>\n",
       "      <td>0</td>\n",
       "      <td>0</td>\n",
       "      <td>Fungal infection</td>\n",
       "    </tr>\n",
       "    <tr>\n",
       "      <th>1</th>\n",
       "      <td>0</td>\n",
       "      <td>1</td>\n",
       "      <td>1</td>\n",
       "      <td>0</td>\n",
       "      <td>0</td>\n",
       "      <td>0</td>\n",
       "      <td>0</td>\n",
       "      <td>0</td>\n",
       "      <td>0</td>\n",
       "      <td>0</td>\n",
       "      <td>...</td>\n",
       "      <td>0</td>\n",
       "      <td>0</td>\n",
       "      <td>0</td>\n",
       "      <td>0</td>\n",
       "      <td>0</td>\n",
       "      <td>0</td>\n",
       "      <td>0</td>\n",
       "      <td>0</td>\n",
       "      <td>0</td>\n",
       "      <td>Fungal infection</td>\n",
       "    </tr>\n",
       "    <tr>\n",
       "      <th>2</th>\n",
       "      <td>1</td>\n",
       "      <td>0</td>\n",
       "      <td>1</td>\n",
       "      <td>0</td>\n",
       "      <td>0</td>\n",
       "      <td>0</td>\n",
       "      <td>0</td>\n",
       "      <td>0</td>\n",
       "      <td>0</td>\n",
       "      <td>0</td>\n",
       "      <td>...</td>\n",
       "      <td>0</td>\n",
       "      <td>0</td>\n",
       "      <td>0</td>\n",
       "      <td>0</td>\n",
       "      <td>0</td>\n",
       "      <td>0</td>\n",
       "      <td>0</td>\n",
       "      <td>0</td>\n",
       "      <td>0</td>\n",
       "      <td>Fungal infection</td>\n",
       "    </tr>\n",
       "    <tr>\n",
       "      <th>3</th>\n",
       "      <td>1</td>\n",
       "      <td>1</td>\n",
       "      <td>0</td>\n",
       "      <td>0</td>\n",
       "      <td>0</td>\n",
       "      <td>0</td>\n",
       "      <td>0</td>\n",
       "      <td>0</td>\n",
       "      <td>0</td>\n",
       "      <td>0</td>\n",
       "      <td>...</td>\n",
       "      <td>0</td>\n",
       "      <td>0</td>\n",
       "      <td>0</td>\n",
       "      <td>0</td>\n",
       "      <td>0</td>\n",
       "      <td>0</td>\n",
       "      <td>0</td>\n",
       "      <td>0</td>\n",
       "      <td>0</td>\n",
       "      <td>Fungal infection</td>\n",
       "    </tr>\n",
       "    <tr>\n",
       "      <th>4</th>\n",
       "      <td>1</td>\n",
       "      <td>1</td>\n",
       "      <td>1</td>\n",
       "      <td>0</td>\n",
       "      <td>0</td>\n",
       "      <td>0</td>\n",
       "      <td>0</td>\n",
       "      <td>0</td>\n",
       "      <td>0</td>\n",
       "      <td>0</td>\n",
       "      <td>...</td>\n",
       "      <td>0</td>\n",
       "      <td>0</td>\n",
       "      <td>0</td>\n",
       "      <td>0</td>\n",
       "      <td>0</td>\n",
       "      <td>0</td>\n",
       "      <td>0</td>\n",
       "      <td>0</td>\n",
       "      <td>0</td>\n",
       "      <td>Fungal infection</td>\n",
       "    </tr>\n",
       "  </tbody>\n",
       "</table>\n",
       "<p>5 rows × 133 columns</p>\n",
       "</div>"
      ],
      "text/plain": [
       "   itching  skin_rash  nodal_skin_eruptions  continuous_sneezing  shivering  \\\n",
       "0        1          1                     1                    0          0   \n",
       "1        0          1                     1                    0          0   \n",
       "2        1          0                     1                    0          0   \n",
       "3        1          1                     0                    0          0   \n",
       "4        1          1                     1                    0          0   \n",
       "\n",
       "   chills  joint_pain  stomach_pain  acidity  ulcers_on_tongue  ...  \\\n",
       "0       0           0             0        0                 0  ...   \n",
       "1       0           0             0        0                 0  ...   \n",
       "2       0           0             0        0                 0  ...   \n",
       "3       0           0             0        0                 0  ...   \n",
       "4       0           0             0        0                 0  ...   \n",
       "\n",
       "   blackheads  scurring  skin_peeling  silver_like_dusting  \\\n",
       "0           0         0             0                    0   \n",
       "1           0         0             0                    0   \n",
       "2           0         0             0                    0   \n",
       "3           0         0             0                    0   \n",
       "4           0         0             0                    0   \n",
       "\n",
       "   small_dents_in_nails  inflammatory_nails  blister  red_sore_around_nose  \\\n",
       "0                     0                   0        0                     0   \n",
       "1                     0                   0        0                     0   \n",
       "2                     0                   0        0                     0   \n",
       "3                     0                   0        0                     0   \n",
       "4                     0                   0        0                     0   \n",
       "\n",
       "   yellow_crust_ooze         prognosis  \n",
       "0                  0  Fungal infection  \n",
       "1                  0  Fungal infection  \n",
       "2                  0  Fungal infection  \n",
       "3                  0  Fungal infection  \n",
       "4                  0  Fungal infection  \n",
       "\n",
       "[5 rows x 133 columns]"
      ]
     },
     "execution_count": 3,
     "metadata": {},
     "output_type": "execute_result"
    }
   ],
   "source": [
    "df.head()\n",
    "# \"multiclass classifiacation problem\""
   ]
  },
  {
   "cell_type": "code",
   "execution_count": 4,
   "id": "d27923dc-cbc0-4492-9d9c-9cfdc3581e69",
   "metadata": {},
   "outputs": [
    {
     "data": {
      "text/plain": [
       "(4920, 133)"
      ]
     },
     "execution_count": 4,
     "metadata": {},
     "output_type": "execute_result"
    }
   ],
   "source": [
    "df.shape\n",
    "# \"4920-records, 133-columns\""
   ]
  },
  {
   "cell_type": "code",
   "execution_count": 5,
   "id": "3c47b979-bacc-40f8-a191-84e8cb693d4a",
   "metadata": {},
   "outputs": [
    {
     "name": "stdout",
     "output_type": "stream",
     "text": [
      "['Fungal infection' 'Allergy' 'GERD' 'Chronic cholestasis' 'Drug Reaction'\n",
      " 'Peptic ulcer diseae' 'AIDS' 'Diabetes ' 'Gastroenteritis'\n",
      " 'Bronchial Asthma' 'Hypertension ' 'Migraine' 'Cervical spondylosis'\n",
      " 'Paralysis (brain hemorrhage)' 'Jaundice' 'Malaria' 'Chicken pox'\n",
      " 'Dengue' 'Typhoid' 'hepatitis A' 'Hepatitis B' 'Hepatitis C'\n",
      " 'Hepatitis D' 'Hepatitis E' 'Alcoholic hepatitis' 'Tuberculosis'\n",
      " 'Common Cold' 'Pneumonia' 'Dimorphic hemmorhoids(piles)' 'Heart attack'\n",
      " 'Varicose veins' 'Hypothyroidism' 'Hyperthyroidism' 'Hypoglycemia'\n",
      " 'Osteoarthristis' 'Arthritis' '(vertigo) Paroymsal  Positional Vertigo'\n",
      " 'Acne' 'Urinary tract infection' 'Psoriasis' 'Impetigo']\n",
      "Diseases: 41\n"
     ]
    }
   ],
   "source": [
    "# \"number of diseases\"\n",
    "print(df['prognosis'].unique())\n",
    "print(\"Diseases:\", len(df['prognosis'].unique()))"
   ]
  },
  {
   "cell_type": "code",
   "execution_count": 6,
   "id": "001b47ad-c587-4d88-894f-1f44f07ffd92",
   "metadata": {},
   "outputs": [],
   "source": [
    "# \"The data is preprossed\""
   ]
  },
  {
   "cell_type": "code",
   "execution_count": 7,
   "id": "ac7aaaf6-4437-4d09-80fe-1d1a8bccf223",
   "metadata": {},
   "outputs": [],
   "source": [
    "## Train test split"
   ]
  },
  {
   "cell_type": "code",
   "execution_count": 8,
   "id": "5aa5967d-0400-40fe-8baf-fd4cdf1b17cc",
   "metadata": {},
   "outputs": [],
   "source": [
    "from sklearn.model_selection import train_test_split\n",
    "from sklearn.preprocessing import LabelEncoder"
   ]
  },
  {
   "cell_type": "code",
   "execution_count": 9,
   "id": "3b0733a5-fda8-42dc-b97a-60f96c118de4",
   "metadata": {},
   "outputs": [],
   "source": [
    "# \"Divide the dataset into X & Y \"\n",
    "# \"X-inputs columns, Y-Target column\"\n",
    "\n",
    "X = df.drop(\"prognosis\", axis=1)\n",
    "y = df['prognosis']"
   ]
  },
  {
   "cell_type": "code",
   "execution_count": 10,
   "id": "41a8e56a-f427-4186-b99d-ca5f9c698a8f",
   "metadata": {},
   "outputs": [],
   "source": [
    "# \"encode the string to integer\"\n",
    "le = LabelEncoder()\n",
    "le.fit(y)\n",
    "Y = le.transform(y)"
   ]
  },
  {
   "cell_type": "code",
   "execution_count": 11,
   "id": "c06447ea-6504-4c0b-af86-3eed6991b310",
   "metadata": {},
   "outputs": [
    {
     "data": {
      "text/plain": [
       "0     Fungal infection\n",
       "1     Fungal infection\n",
       "2     Fungal infection\n",
       "3     Fungal infection\n",
       "4     Fungal infection\n",
       "5     Fungal infection\n",
       "6     Fungal infection\n",
       "7     Fungal infection\n",
       "8     Fungal infection\n",
       "9     Fungal infection\n",
       "10             Allergy\n",
       "11             Allergy\n",
       "12             Allergy\n",
       "Name: prognosis, dtype: object"
      ]
     },
     "execution_count": 11,
     "metadata": {},
     "output_type": "execute_result"
    }
   ],
   "source": [
    "y.head(13)"
   ]
  },
  {
   "cell_type": "code",
   "execution_count": 12,
   "id": "3574ac65-b684-4c40-b8a6-ee8219ef2951",
   "metadata": {},
   "outputs": [],
   "source": [
    "# \"split the train dataset\"\n",
    "X_train, X_test, y_train, y_test =train_test_split(X,Y, test_size=0.3, random_state=20)"
   ]
  },
  {
   "cell_type": "code",
   "execution_count": 13,
   "id": "e564e332-1088-42b4-b062-03bde05a8c4b",
   "metadata": {},
   "outputs": [
    {
     "data": {
      "text/plain": [
       "((3444, 132), (1476, 132), (3444,), (1476,))"
      ]
     },
     "execution_count": 13,
     "metadata": {},
     "output_type": "execute_result"
    }
   ],
   "source": [
    "X_train.shape, X_test.shape, y_train.shape, y_test.shape"
   ]
  },
  {
   "cell_type": "code",
   "execution_count": 14,
   "id": "4fa977ed-63ec-4b5d-9baa-2614db1b72a3",
   "metadata": {},
   "outputs": [],
   "source": [
    "# Models Training"
   ]
  },
  {
   "cell_type": "code",
   "execution_count": 15,
   "id": "725b9d1c-6f20-43bd-beda-19f7f8030e3d",
   "metadata": {},
   "outputs": [],
   "source": [
    "from sklearn.datasets import make_classification\n",
    "from sklearn.svm import SVC\n",
    "from sklearn.ensemble import RandomForestClassifier, GradientBoostingClassifier\n",
    "# from sklearn.neighbors import KNeighborsClassifier\n",
    "from sklearn.naive_bayes import MultinomialNB\n",
    "\n",
    "from sklearn.metrics import accuracy_score, confusion_matrix\n",
    "import numpy as np\n",
    "\n",
    "# dictionary to store models\n",
    "models = {\n",
    "    \"SVC\":SVC(kernel='linear'),\n",
    "    \"RandomForest\":RandomForestClassifier(n_estimators=100, random_state=42),\n",
    "    \"GrandientBoosting\":GradientBoostingClassifier(n_estimators=100, random_state=42),\n",
    "    # \"KNeighbors\":KNeighborsClassifier(n_neighbors=5),\n",
    "    \"MultinomialNB\":MultinomialNB()\n",
    "}"
   ]
  },
  {
   "cell_type": "code",
   "execution_count": 16,
   "id": "8d009c33-734c-4504-bb99-662dd422b2f0",
   "metadata": {},
   "outputs": [
    {
     "name": "stdout",
     "output_type": "stream",
     "text": [
      "SVC accuracy : 1.0\n",
      "SVC confussion Matrix :\n",
      "[[40,  0,  0, ...,  0,  0,  0],\n",
      " [ 0, 43,  0, ...,  0,  0,  0],\n",
      " [ 0,  0, 28, ...,  0,  0,  0],\n",
      " ...,\n",
      " [ 0,  0,  0, ..., 34,  0,  0],\n",
      " [ 0,  0,  0, ...,  0, 41,  0],\n",
      " [ 0,  0,  0, ...,  0,  0, 31]]\n",
      "RandomForest accuracy : 1.0\n",
      "RandomForest confussion Matrix :\n",
      "[[40,  0,  0, ...,  0,  0,  0],\n",
      " [ 0, 43,  0, ...,  0,  0,  0],\n",
      " [ 0,  0, 28, ...,  0,  0,  0],\n",
      " ...,\n",
      " [ 0,  0,  0, ..., 34,  0,  0],\n",
      " [ 0,  0,  0, ...,  0, 41,  0],\n",
      " [ 0,  0,  0, ...,  0,  0, 31]]\n",
      "GrandientBoosting accuracy : 1.0\n",
      "GrandientBoosting confussion Matrix :\n",
      "[[40,  0,  0, ...,  0,  0,  0],\n",
      " [ 0, 43,  0, ...,  0,  0,  0],\n",
      " [ 0,  0, 28, ...,  0,  0,  0],\n",
      " ...,\n",
      " [ 0,  0,  0, ..., 34,  0,  0],\n",
      " [ 0,  0,  0, ...,  0, 41,  0],\n",
      " [ 0,  0,  0, ...,  0,  0, 31]]\n",
      "MultinomialNB accuracy : 1.0\n",
      "MultinomialNB confussion Matrix :\n",
      "[[40,  0,  0, ...,  0,  0,  0],\n",
      " [ 0, 43,  0, ...,  0,  0,  0],\n",
      " [ 0,  0, 28, ...,  0,  0,  0],\n",
      " ...,\n",
      " [ 0,  0,  0, ..., 34,  0,  0],\n",
      " [ 0,  0,  0, ...,  0, 41,  0],\n",
      " [ 0,  0,  0, ...,  0,  0, 31]]\n"
     ]
    }
   ],
   "source": [
    "# for loop for the training\n",
    "for model_name, model in models.items():\n",
    "    # train model\n",
    "    model.fit(X_train, y_train)\n",
    "\n",
    "    # test the model\n",
    "    predictions = model.predict(X_test)\n",
    "\n",
    "    # \"calculate the accuracy\"\n",
    "    accuracy = accuracy_score(y_test, predictions)\n",
    "\n",
    "    # \"calculate confussion matrix\"\n",
    "    cm = confusion_matrix(y_test, predictions)\n",
    "\n",
    "    print(f'{model_name} accuracy : {accuracy}')\n",
    "    print(f\"{model_name} confussion Matrix :\")\n",
    "    print(np.array2string(cm, separator=', '))"
   ]
  },
  {
   "cell_type": "code",
   "execution_count": 17,
   "id": "f563f9c7-ed17-4662-aa4f-da4e5d26d7a5",
   "metadata": {},
   "outputs": [
    {
     "data": {
      "text/plain": [
       "1.0"
      ]
     },
     "execution_count": 17,
     "metadata": {},
     "output_type": "execute_result"
    }
   ],
   "source": [
    "## single prediction\n",
    "# \"choose SVC\"\n",
    "svc = SVC(kernel='linear')\n",
    "svc.fit(X_train, y_train)\n",
    "ypred = svc.predict(X_test)\n",
    "accuracy_score(y_test, ypred)"
   ]
  },
  {
   "cell_type": "code",
   "execution_count": 18,
   "id": "e742dc2a-16de-4529-be8a-82552d3d31e9",
   "metadata": {},
   "outputs": [],
   "source": [
    "# save the model\n",
    "import pickle\n",
    "# pickle.dump(svc, open('models/svc.pkl', 'wb'))"
   ]
  },
  {
   "cell_type": "code",
   "execution_count": 19,
   "id": "3bf8c511-858d-4d17-9698-4c79a7d37f69",
   "metadata": {},
   "outputs": [],
   "source": [
    "# load the model\n",
    "\n",
    "svc = pickle.load(open('models/svc.pkl', 'rb'))"
   ]
  },
  {
   "cell_type": "code",
   "execution_count": 20,
   "id": "a86bab3b-384d-499c-b215-7cef2f17d7c9",
   "metadata": {},
   "outputs": [
    {
     "data": {
      "text/html": [
       "<style>#sk-container-id-1 {\n",
       "  /* Definition of color scheme common for light and dark mode */\n",
       "  --sklearn-color-text: black;\n",
       "  --sklearn-color-line: gray;\n",
       "  /* Definition of color scheme for unfitted estimators */\n",
       "  --sklearn-color-unfitted-level-0: #fff5e6;\n",
       "  --sklearn-color-unfitted-level-1: #f6e4d2;\n",
       "  --sklearn-color-unfitted-level-2: #ffe0b3;\n",
       "  --sklearn-color-unfitted-level-3: chocolate;\n",
       "  /* Definition of color scheme for fitted estimators */\n",
       "  --sklearn-color-fitted-level-0: #f0f8ff;\n",
       "  --sklearn-color-fitted-level-1: #d4ebff;\n",
       "  --sklearn-color-fitted-level-2: #b3dbfd;\n",
       "  --sklearn-color-fitted-level-3: cornflowerblue;\n",
       "\n",
       "  /* Specific color for light theme */\n",
       "  --sklearn-color-text-on-default-background: var(--sg-text-color, var(--theme-code-foreground, var(--jp-content-font-color1, black)));\n",
       "  --sklearn-color-background: var(--sg-background-color, var(--theme-background, var(--jp-layout-color0, white)));\n",
       "  --sklearn-color-border-box: var(--sg-text-color, var(--theme-code-foreground, var(--jp-content-font-color1, black)));\n",
       "  --sklearn-color-icon: #696969;\n",
       "\n",
       "  @media (prefers-color-scheme: dark) {\n",
       "    /* Redefinition of color scheme for dark theme */\n",
       "    --sklearn-color-text-on-default-background: var(--sg-text-color, var(--theme-code-foreground, var(--jp-content-font-color1, white)));\n",
       "    --sklearn-color-background: var(--sg-background-color, var(--theme-background, var(--jp-layout-color0, #111)));\n",
       "    --sklearn-color-border-box: var(--sg-text-color, var(--theme-code-foreground, var(--jp-content-font-color1, white)));\n",
       "    --sklearn-color-icon: #878787;\n",
       "  }\n",
       "}\n",
       "\n",
       "#sk-container-id-1 {\n",
       "  color: var(--sklearn-color-text);\n",
       "}\n",
       "\n",
       "#sk-container-id-1 pre {\n",
       "  padding: 0;\n",
       "}\n",
       "\n",
       "#sk-container-id-1 input.sk-hidden--visually {\n",
       "  border: 0;\n",
       "  clip: rect(1px 1px 1px 1px);\n",
       "  clip: rect(1px, 1px, 1px, 1px);\n",
       "  height: 1px;\n",
       "  margin: -1px;\n",
       "  overflow: hidden;\n",
       "  padding: 0;\n",
       "  position: absolute;\n",
       "  width: 1px;\n",
       "}\n",
       "\n",
       "#sk-container-id-1 div.sk-dashed-wrapped {\n",
       "  border: 1px dashed var(--sklearn-color-line);\n",
       "  margin: 0 0.4em 0.5em 0.4em;\n",
       "  box-sizing: border-box;\n",
       "  padding-bottom: 0.4em;\n",
       "  background-color: var(--sklearn-color-background);\n",
       "}\n",
       "\n",
       "#sk-container-id-1 div.sk-container {\n",
       "  /* jupyter's `normalize.less` sets `[hidden] { display: none; }`\n",
       "     but bootstrap.min.css set `[hidden] { display: none !important; }`\n",
       "     so we also need the `!important` here to be able to override the\n",
       "     default hidden behavior on the sphinx rendered scikit-learn.org.\n",
       "     See: https://github.com/scikit-learn/scikit-learn/issues/21755 */\n",
       "  display: inline-block !important;\n",
       "  position: relative;\n",
       "}\n",
       "\n",
       "#sk-container-id-1 div.sk-text-repr-fallback {\n",
       "  display: none;\n",
       "}\n",
       "\n",
       "div.sk-parallel-item,\n",
       "div.sk-serial,\n",
       "div.sk-item {\n",
       "  /* draw centered vertical line to link estimators */\n",
       "  background-image: linear-gradient(var(--sklearn-color-text-on-default-background), var(--sklearn-color-text-on-default-background));\n",
       "  background-size: 2px 100%;\n",
       "  background-repeat: no-repeat;\n",
       "  background-position: center center;\n",
       "}\n",
       "\n",
       "/* Parallel-specific style estimator block */\n",
       "\n",
       "#sk-container-id-1 div.sk-parallel-item::after {\n",
       "  content: \"\";\n",
       "  width: 100%;\n",
       "  border-bottom: 2px solid var(--sklearn-color-text-on-default-background);\n",
       "  flex-grow: 1;\n",
       "}\n",
       "\n",
       "#sk-container-id-1 div.sk-parallel {\n",
       "  display: flex;\n",
       "  align-items: stretch;\n",
       "  justify-content: center;\n",
       "  background-color: var(--sklearn-color-background);\n",
       "  position: relative;\n",
       "}\n",
       "\n",
       "#sk-container-id-1 div.sk-parallel-item {\n",
       "  display: flex;\n",
       "  flex-direction: column;\n",
       "}\n",
       "\n",
       "#sk-container-id-1 div.sk-parallel-item:first-child::after {\n",
       "  align-self: flex-end;\n",
       "  width: 50%;\n",
       "}\n",
       "\n",
       "#sk-container-id-1 div.sk-parallel-item:last-child::after {\n",
       "  align-self: flex-start;\n",
       "  width: 50%;\n",
       "}\n",
       "\n",
       "#sk-container-id-1 div.sk-parallel-item:only-child::after {\n",
       "  width: 0;\n",
       "}\n",
       "\n",
       "/* Serial-specific style estimator block */\n",
       "\n",
       "#sk-container-id-1 div.sk-serial {\n",
       "  display: flex;\n",
       "  flex-direction: column;\n",
       "  align-items: center;\n",
       "  background-color: var(--sklearn-color-background);\n",
       "  padding-right: 1em;\n",
       "  padding-left: 1em;\n",
       "}\n",
       "\n",
       "\n",
       "/* Toggleable style: style used for estimator/Pipeline/ColumnTransformer box that is\n",
       "clickable and can be expanded/collapsed.\n",
       "- Pipeline and ColumnTransformer use this feature and define the default style\n",
       "- Estimators will overwrite some part of the style using the `sk-estimator` class\n",
       "*/\n",
       "\n",
       "/* Pipeline and ColumnTransformer style (default) */\n",
       "\n",
       "#sk-container-id-1 div.sk-toggleable {\n",
       "  /* Default theme specific background. It is overwritten whether we have a\n",
       "  specific estimator or a Pipeline/ColumnTransformer */\n",
       "  background-color: var(--sklearn-color-background);\n",
       "}\n",
       "\n",
       "/* Toggleable label */\n",
       "#sk-container-id-1 label.sk-toggleable__label {\n",
       "  cursor: pointer;\n",
       "  display: block;\n",
       "  width: 100%;\n",
       "  margin-bottom: 0;\n",
       "  padding: 0.5em;\n",
       "  box-sizing: border-box;\n",
       "  text-align: center;\n",
       "}\n",
       "\n",
       "#sk-container-id-1 label.sk-toggleable__label-arrow:before {\n",
       "  /* Arrow on the left of the label */\n",
       "  content: \"▸\";\n",
       "  float: left;\n",
       "  margin-right: 0.25em;\n",
       "  color: var(--sklearn-color-icon);\n",
       "}\n",
       "\n",
       "#sk-container-id-1 label.sk-toggleable__label-arrow:hover:before {\n",
       "  color: var(--sklearn-color-text);\n",
       "}\n",
       "\n",
       "/* Toggleable content - dropdown */\n",
       "\n",
       "#sk-container-id-1 div.sk-toggleable__content {\n",
       "  max-height: 0;\n",
       "  max-width: 0;\n",
       "  overflow: hidden;\n",
       "  text-align: left;\n",
       "  /* unfitted */\n",
       "  background-color: var(--sklearn-color-unfitted-level-0);\n",
       "}\n",
       "\n",
       "#sk-container-id-1 div.sk-toggleable__content.fitted {\n",
       "  /* fitted */\n",
       "  background-color: var(--sklearn-color-fitted-level-0);\n",
       "}\n",
       "\n",
       "#sk-container-id-1 div.sk-toggleable__content pre {\n",
       "  margin: 0.2em;\n",
       "  border-radius: 0.25em;\n",
       "  color: var(--sklearn-color-text);\n",
       "  /* unfitted */\n",
       "  background-color: var(--sklearn-color-unfitted-level-0);\n",
       "}\n",
       "\n",
       "#sk-container-id-1 div.sk-toggleable__content.fitted pre {\n",
       "  /* unfitted */\n",
       "  background-color: var(--sklearn-color-fitted-level-0);\n",
       "}\n",
       "\n",
       "#sk-container-id-1 input.sk-toggleable__control:checked~div.sk-toggleable__content {\n",
       "  /* Expand drop-down */\n",
       "  max-height: 200px;\n",
       "  max-width: 100%;\n",
       "  overflow: auto;\n",
       "}\n",
       "\n",
       "#sk-container-id-1 input.sk-toggleable__control:checked~label.sk-toggleable__label-arrow:before {\n",
       "  content: \"▾\";\n",
       "}\n",
       "\n",
       "/* Pipeline/ColumnTransformer-specific style */\n",
       "\n",
       "#sk-container-id-1 div.sk-label input.sk-toggleable__control:checked~label.sk-toggleable__label {\n",
       "  color: var(--sklearn-color-text);\n",
       "  background-color: var(--sklearn-color-unfitted-level-2);\n",
       "}\n",
       "\n",
       "#sk-container-id-1 div.sk-label.fitted input.sk-toggleable__control:checked~label.sk-toggleable__label {\n",
       "  background-color: var(--sklearn-color-fitted-level-2);\n",
       "}\n",
       "\n",
       "/* Estimator-specific style */\n",
       "\n",
       "/* Colorize estimator box */\n",
       "#sk-container-id-1 div.sk-estimator input.sk-toggleable__control:checked~label.sk-toggleable__label {\n",
       "  /* unfitted */\n",
       "  background-color: var(--sklearn-color-unfitted-level-2);\n",
       "}\n",
       "\n",
       "#sk-container-id-1 div.sk-estimator.fitted input.sk-toggleable__control:checked~label.sk-toggleable__label {\n",
       "  /* fitted */\n",
       "  background-color: var(--sklearn-color-fitted-level-2);\n",
       "}\n",
       "\n",
       "#sk-container-id-1 div.sk-label label.sk-toggleable__label,\n",
       "#sk-container-id-1 div.sk-label label {\n",
       "  /* The background is the default theme color */\n",
       "  color: var(--sklearn-color-text-on-default-background);\n",
       "}\n",
       "\n",
       "/* On hover, darken the color of the background */\n",
       "#sk-container-id-1 div.sk-label:hover label.sk-toggleable__label {\n",
       "  color: var(--sklearn-color-text);\n",
       "  background-color: var(--sklearn-color-unfitted-level-2);\n",
       "}\n",
       "\n",
       "/* Label box, darken color on hover, fitted */\n",
       "#sk-container-id-1 div.sk-label.fitted:hover label.sk-toggleable__label.fitted {\n",
       "  color: var(--sklearn-color-text);\n",
       "  background-color: var(--sklearn-color-fitted-level-2);\n",
       "}\n",
       "\n",
       "/* Estimator label */\n",
       "\n",
       "#sk-container-id-1 div.sk-label label {\n",
       "  font-family: monospace;\n",
       "  font-weight: bold;\n",
       "  display: inline-block;\n",
       "  line-height: 1.2em;\n",
       "}\n",
       "\n",
       "#sk-container-id-1 div.sk-label-container {\n",
       "  text-align: center;\n",
       "}\n",
       "\n",
       "/* Estimator-specific */\n",
       "#sk-container-id-1 div.sk-estimator {\n",
       "  font-family: monospace;\n",
       "  border: 1px dotted var(--sklearn-color-border-box);\n",
       "  border-radius: 0.25em;\n",
       "  box-sizing: border-box;\n",
       "  margin-bottom: 0.5em;\n",
       "  /* unfitted */\n",
       "  background-color: var(--sklearn-color-unfitted-level-0);\n",
       "}\n",
       "\n",
       "#sk-container-id-1 div.sk-estimator.fitted {\n",
       "  /* fitted */\n",
       "  background-color: var(--sklearn-color-fitted-level-0);\n",
       "}\n",
       "\n",
       "/* on hover */\n",
       "#sk-container-id-1 div.sk-estimator:hover {\n",
       "  /* unfitted */\n",
       "  background-color: var(--sklearn-color-unfitted-level-2);\n",
       "}\n",
       "\n",
       "#sk-container-id-1 div.sk-estimator.fitted:hover {\n",
       "  /* fitted */\n",
       "  background-color: var(--sklearn-color-fitted-level-2);\n",
       "}\n",
       "\n",
       "/* Specification for estimator info (e.g. \"i\" and \"?\") */\n",
       "\n",
       "/* Common style for \"i\" and \"?\" */\n",
       "\n",
       ".sk-estimator-doc-link,\n",
       "a:link.sk-estimator-doc-link,\n",
       "a:visited.sk-estimator-doc-link {\n",
       "  float: right;\n",
       "  font-size: smaller;\n",
       "  line-height: 1em;\n",
       "  font-family: monospace;\n",
       "  background-color: var(--sklearn-color-background);\n",
       "  border-radius: 1em;\n",
       "  height: 1em;\n",
       "  width: 1em;\n",
       "  text-decoration: none !important;\n",
       "  margin-left: 1ex;\n",
       "  /* unfitted */\n",
       "  border: var(--sklearn-color-unfitted-level-1) 1pt solid;\n",
       "  color: var(--sklearn-color-unfitted-level-1);\n",
       "}\n",
       "\n",
       ".sk-estimator-doc-link.fitted,\n",
       "a:link.sk-estimator-doc-link.fitted,\n",
       "a:visited.sk-estimator-doc-link.fitted {\n",
       "  /* fitted */\n",
       "  border: var(--sklearn-color-fitted-level-1) 1pt solid;\n",
       "  color: var(--sklearn-color-fitted-level-1);\n",
       "}\n",
       "\n",
       "/* On hover */\n",
       "div.sk-estimator:hover .sk-estimator-doc-link:hover,\n",
       ".sk-estimator-doc-link:hover,\n",
       "div.sk-label-container:hover .sk-estimator-doc-link:hover,\n",
       ".sk-estimator-doc-link:hover {\n",
       "  /* unfitted */\n",
       "  background-color: var(--sklearn-color-unfitted-level-3);\n",
       "  color: var(--sklearn-color-background);\n",
       "  text-decoration: none;\n",
       "}\n",
       "\n",
       "div.sk-estimator.fitted:hover .sk-estimator-doc-link.fitted:hover,\n",
       ".sk-estimator-doc-link.fitted:hover,\n",
       "div.sk-label-container:hover .sk-estimator-doc-link.fitted:hover,\n",
       ".sk-estimator-doc-link.fitted:hover {\n",
       "  /* fitted */\n",
       "  background-color: var(--sklearn-color-fitted-level-3);\n",
       "  color: var(--sklearn-color-background);\n",
       "  text-decoration: none;\n",
       "}\n",
       "\n",
       "/* Span, style for the box shown on hovering the info icon */\n",
       ".sk-estimator-doc-link span {\n",
       "  display: none;\n",
       "  z-index: 9999;\n",
       "  position: relative;\n",
       "  font-weight: normal;\n",
       "  right: .2ex;\n",
       "  padding: .5ex;\n",
       "  margin: .5ex;\n",
       "  width: min-content;\n",
       "  min-width: 20ex;\n",
       "  max-width: 50ex;\n",
       "  color: var(--sklearn-color-text);\n",
       "  box-shadow: 2pt 2pt 4pt #999;\n",
       "  /* unfitted */\n",
       "  background: var(--sklearn-color-unfitted-level-0);\n",
       "  border: .5pt solid var(--sklearn-color-unfitted-level-3);\n",
       "}\n",
       "\n",
       ".sk-estimator-doc-link.fitted span {\n",
       "  /* fitted */\n",
       "  background: var(--sklearn-color-fitted-level-0);\n",
       "  border: var(--sklearn-color-fitted-level-3);\n",
       "}\n",
       "\n",
       ".sk-estimator-doc-link:hover span {\n",
       "  display: block;\n",
       "}\n",
       "\n",
       "/* \"?\"-specific style due to the `<a>` HTML tag */\n",
       "\n",
       "#sk-container-id-1 a.estimator_doc_link {\n",
       "  float: right;\n",
       "  font-size: 1rem;\n",
       "  line-height: 1em;\n",
       "  font-family: monospace;\n",
       "  background-color: var(--sklearn-color-background);\n",
       "  border-radius: 1rem;\n",
       "  height: 1rem;\n",
       "  width: 1rem;\n",
       "  text-decoration: none;\n",
       "  /* unfitted */\n",
       "  color: var(--sklearn-color-unfitted-level-1);\n",
       "  border: var(--sklearn-color-unfitted-level-1) 1pt solid;\n",
       "}\n",
       "\n",
       "#sk-container-id-1 a.estimator_doc_link.fitted {\n",
       "  /* fitted */\n",
       "  border: var(--sklearn-color-fitted-level-1) 1pt solid;\n",
       "  color: var(--sklearn-color-fitted-level-1);\n",
       "}\n",
       "\n",
       "/* On hover */\n",
       "#sk-container-id-1 a.estimator_doc_link:hover {\n",
       "  /* unfitted */\n",
       "  background-color: var(--sklearn-color-unfitted-level-3);\n",
       "  color: var(--sklearn-color-background);\n",
       "  text-decoration: none;\n",
       "}\n",
       "\n",
       "#sk-container-id-1 a.estimator_doc_link.fitted:hover {\n",
       "  /* fitted */\n",
       "  background-color: var(--sklearn-color-fitted-level-3);\n",
       "}\n",
       "</style><div id=\"sk-container-id-1\" class=\"sk-top-container\"><div class=\"sk-text-repr-fallback\"><pre>SVC(kernel=&#x27;linear&#x27;)</pre><b>In a Jupyter environment, please rerun this cell to show the HTML representation or trust the notebook. <br />On GitHub, the HTML representation is unable to render, please try loading this page with nbviewer.org.</b></div><div class=\"sk-container\" hidden><div class=\"sk-item\"><div class=\"sk-estimator fitted sk-toggleable\"><input class=\"sk-toggleable__control sk-hidden--visually\" id=\"sk-estimator-id-1\" type=\"checkbox\" checked><label for=\"sk-estimator-id-1\" class=\"sk-toggleable__label fitted sk-toggleable__label-arrow fitted\">&nbsp;&nbsp;SVC<a class=\"sk-estimator-doc-link fitted\" rel=\"noreferrer\" target=\"_blank\" href=\"https://scikit-learn.org/1.4/modules/generated/sklearn.svm.SVC.html\">?<span>Documentation for SVC</span></a><span class=\"sk-estimator-doc-link fitted\">i<span>Fitted</span></span></label><div class=\"sk-toggleable__content fitted\"><pre>SVC(kernel=&#x27;linear&#x27;)</pre></div> </div></div></div></div>"
      ],
      "text/plain": [
       "SVC(kernel='linear')"
      ]
     },
     "execution_count": 20,
     "metadata": {},
     "output_type": "execute_result"
    }
   ],
   "source": [
    "svc"
   ]
  },
  {
   "cell_type": "code",
   "execution_count": 21,
   "id": "63ccad0e-3ec3-49f0-a57c-5c68e1697a0f",
   "metadata": {},
   "outputs": [
    {
     "name": "stderr",
     "output_type": "stream",
     "text": [
      "/home/edwin/.local/lib/python3.11/site-packages/sklearn/base.py:493: UserWarning: X does not have valid feature names, but SVC was fitted with feature names\n",
      "  warnings.warn(\n"
     ]
    }
   ],
   "source": [
    "# prediction 1\n",
    "prediction_1 = svc.predict(X_test.iloc[6].values.reshape(1, -1))"
   ]
  },
  {
   "cell_type": "code",
   "execution_count": 22,
   "id": "f2d262a2-79d8-4af4-b874-4fe5368a2b07",
   "metadata": {},
   "outputs": [
    {
     "name": "stdout",
     "output_type": "stream",
     "text": [
      "Original Predicted Class: ['Pneumonia']\n"
     ]
    }
   ],
   "source": [
    "original_predicted_label = le.inverse_transform(prediction_1)\n",
    "print(\"Original Predicted Class:\", original_predicted_label)"
   ]
  },
  {
   "cell_type": "code",
   "execution_count": 23,
   "id": "5539c195-206f-4d56-b7b1-1055e39f6135",
   "metadata": {},
   "outputs": [
    {
     "name": "stderr",
     "output_type": "stream",
     "text": [
      "/home/edwin/.local/lib/python3.11/site-packages/sklearn/base.py:493: UserWarning: X does not have valid feature names, but SVC was fitted with feature names\n",
      "  warnings.warn(\n"
     ]
    }
   ],
   "source": [
    "# prediction 2\n",
    "prediction_2 = svc.predict(X_test.iloc[24].values.reshape(1, -1))"
   ]
  },
  {
   "cell_type": "code",
   "execution_count": 24,
   "id": "dc50e8d3-49ce-4096-a32d-5ad5e884b357",
   "metadata": {},
   "outputs": [
    {
     "name": "stdout",
     "output_type": "stream",
     "text": [
      "Original Predicted Class: ['Diabetes ']\n"
     ]
    }
   ],
   "source": [
    "original_predicted_label = le.inverse_transform(prediction_2)\n",
    "print(\"Original Predicted Class:\", original_predicted_label)"
   ]
  },
  {
   "cell_type": "markdown",
   "id": "292efaa1-385c-41df-9f49-4599cbb23f22",
   "metadata": {},
   "source": [
    "# Logical Precautions and predictions"
   ]
  },
  {
   "cell_type": "code",
   "execution_count": 25,
   "id": "5c2fe38f-3841-4412-b64d-7cc355855643",
   "metadata": {},
   "outputs": [],
   "source": [
    "sym_df = pd.read_csv('datasets/symtoms_df.csv')\n",
    "precautions = pd.read_csv('datasets/precautions_df.csv')\n",
    "workout = pd.read_csv('datasets/workout_df.csv')\n",
    "description = pd.read_csv('datasets/description.csv')\n",
    "medications = pd.read_csv('datasets/medications.csv')\n",
    "diets = pd.read_csv('datasets/diets.csv')"
   ]
  },
  {
   "cell_type": "code",
   "execution_count": 26,
   "id": "23a3c37a-c5de-405a-ba6c-6e108cc63462",
   "metadata": {},
   "outputs": [
    {
     "name": "stdout",
     "output_type": "stream",
     "text": [
      "Disease\n",
      "['Pneumonia'\n",
      " 'Pneumonia is an inflammatory condition affecting the air sacs in the lungs.']\n",
      "\n",
      "symptom: 27\n",
      "symptom: GERD\n",
      "symptom:  stomach_pain\n",
      "symptom:  ulcers_on_tongue\n",
      "symptom:  vomiting\n",
      "symptom:  cough\n",
      "\n",
      "medicines: Pneumonia\n",
      "medicines: ['Laxatives', 'Pain relievers', 'Warm baths', 'Cold compresses', 'High-fiber diet']\n",
      "\n",
      "workout: [27 27 'GERD' 'Include lean proteins']\n",
      "\n",
      "Pneumonia\n",
      "['Pneumonia Diet', 'High-Calorie Diet', 'Soft and bland foods', 'Hydration', 'Protein-rich foods']\n"
     ]
    }
   ],
   "source": [
    "print(\"Disease\")\n",
    "print(description.iloc[27].values)\n",
    "print('')\n",
    "for syms in sym_df.iloc[27]:\n",
    "    print(f\"symptom: {syms}\")\n",
    "print(\"\")\n",
    "for meds in medications.iloc[27].values:\n",
    "    print(f\"medicines: {meds}\")\n",
    "print('')\n",
    "print(f\"workout: {workout.iloc[27].values}\")\n",
    "print('')\n",
    "for diet in diets.iloc[27]:\n",
    "    print(f'{diet}')"
   ]
  },
  {
   "cell_type": "code",
   "execution_count": 27,
   "id": "83ceef1f-528b-432b-bc38-1a6d38cbf51f",
   "metadata": {},
   "outputs": [],
   "source": [
    "symptoms_dict = {'itching': 0, 'skin_rash': 1, 'nodal_skin_eruptions': 2, 'continuous_sneezing': 3, 'shivering': 4, 'chills': 5,\n",
    "                 'joint_pain': 6, 'stomach_pain': 7, 'acidity': 8, 'ulcers_on_tongue': 9, 'muscle_wasting': 10,\n",
    "                 'vomiting': 11, 'burning_micturition': 12, 'spotting_ urination': 13, 'fatigue': 14, 'weight_gain': 15,\n",
    "                 'anxiety': 16, 'cold_hands_and_feets': 17, 'mood_swings': 18, 'weight_loss': 19, 'restlessness': 20, 'lethargy': 21,\n",
    "                 'patches_in_throat': 22, 'irregular_sugar_level': 23, 'cough': 24, 'high_fever': 25, 'sunken_eyes': 26,\n",
    "                 'breathlessness': 27, 'sweating': 28, 'dehydration': 29, 'indigestion': 30, 'headache': 31, 'yellowish_skin': 32,\n",
    "                 'dark_urine': 33, 'nausea': 34, 'loss_of_appetite': 35, 'pain_behind_the_eyes': 36, 'back_pain': 37, 'constipation': 38,\n",
    "                 'abdominal_pain': 39, 'diarrhoea': 40, 'mild_fever': 41, 'yellow_urine': 42, 'yellowing_of_eyes': 43,\n",
    "                 'acute_liver_failure': 44, 'fluid_overload': 45, 'swelling_of_stomach': 46, 'swelled_lymph_nodes': 47, 'malaise': 48,\n",
    "                 'blurred_and_distorted_vision': 49, 'phlegm': 50, 'throat_irritation': 51, 'redness_of_eyes': 52, 'sinus_pressure': 53,\n",
    "                 'runny_nose': 54, 'congestion': 55, 'chest_pain': 56, 'weakness_in_limbs': 57, 'fast_heart_rate': 58,\n",
    "                 'pain_during_bowel_movements': 59, 'pain_in_anal_region': 60, 'bloody_stool': 61, 'irritation_in_anus': 62,\n",
    "                 'neck_pain': 63, 'dizziness': 64, 'cramps': 65, 'bruising': 66, 'obesity': 67, 'swollen_legs': 68,\n",
    "                 'swollen_blood_vessels': 69, 'puffy_face_and_eyes': 70, 'enlarged_thyroid': 71, 'brittle_nails': 72,\n",
    "                 'swollen_extremeties': 73, 'excessive_hunger': 74, 'extra_marital_contacts': 75, 'drying_and_tingling_lips': 76,\n",
    "                 'slurred_speech': 77, 'knee_pain': 78, 'hip_joint_pain': 79, 'muscle_weakness': 80, 'stiff_neck': 81,\n",
    "                 'swelling_joints': 82, 'movement_stiffness': 83, 'spinning_movements': 84, 'loss_of_balance': 85, 'unsteadiness': 86,\n",
    "                 'weakness_of_one_body_side': 87, 'loss_of_smell': 88, 'bladder_discomfort': 89, 'foul_smell_of urine': 90,\n",
    "                 'continuous_feel_of_urine': 91, 'passage_of_gases': 92, 'internal_itching': 93, 'toxic_look_(typhos)': 94,\n",
    "                 'depression': 95, 'irritability': 96, 'muscle_pain': 97, 'altered_sensorium': 98, 'red_spots_over_body': 99,\n",
    "                 'belly_pain': 100, 'abnormal_menstruation': 101, 'dischromic _patches': 102, 'watering_from_eyes': 103,\n",
    "                 'increased_appetite': 104, 'polyuria': 105, 'family_history': 106, 'mucoid_sputum': 107, 'rusty_sputum': 108,\n",
    "                 'lack_of_concentration': 109, 'visual_disturbances': 110, 'receiving_blood_transfusion': 111,\n",
    "                 'receiving_unsterile_injections': 112, 'coma': 113, 'stomach_bleeding': 114, 'distention_of_abdomen': 115,\n",
    "                 'history_of_alcohol_consumption': 116, 'fluid_overload.1': 117, 'blood_in_sputum': 118,\n",
    "                 'prominent_veins_on_calf': 119, 'palpitations': 120, 'painful_walking': 121, 'pus_filled_pimples': 122,\n",
    "                 'blackheads': 123, 'scurring': 124, 'skin_peeling': 125, 'silver_like_dusting': 126, 'small_dents_in_nails': 127,\n",
    "                 'inflammatory_nails': 128, 'blister': 129, 'red_sore_around_nose': 130, 'yellow_crust_ooze': 131}\n",
    "\n",
    "diseases_list = {15: 'Fungal infection', 4: 'Allergy', 16: 'GERD', 9: 'Chronic cholestasis', 14: 'Drug Reaction', 33: 'Peptic ulcer diseae', 1: 'AIDS', 12: 'Diabetes ', 17: 'Gastroenteritis', 6: 'Bronchial Asthma', 23: 'Hypertension ', 30: 'Migraine', 7: 'Cervical spondylosis', 32: 'Paralysis (brain hemorrhage)', 28: 'Jaundice', 29: 'Malaria', 8: 'Chicken pox', 11: 'Dengue', 37: 'Typhoid', 40: 'hepatitis A', 19: 'Hepatitis B', 20: 'Hepatitis C', 21: 'Hepatitis D', 22: 'Hepatitis E', 3: 'Alcoholic hepatitis', 36: 'Tuberculosis', 10: 'Common Cold', 34: 'Pneumonia', 13: 'Dimorphic hemmorhoids(piles)', 18: 'Heart attack', 39: 'Varicose veins', 26: 'Hypothyroidism', 24: 'Hyperthyroidism', 25: 'Hypoglycemia', 31: 'Osteoarthristis', 5: 'Arthritis', 0: '(vertigo) Paroymsal  Positional Vertigo', 2: 'Acne', 38: 'Urinary tract infection', 35: 'Psoriasis', 27: 'Impetigo'}"
   ]
  },
  {
   "cell_type": "code",
   "execution_count": 28,
   "id": "b3441482-628a-4096-af1d-ae15ef8136c3",
   "metadata": {},
   "outputs": [],
   "source": [
    "# model predictions\n",
    "\n",
    "def get_predicted_value(patient_symptoms):\n",
    "    input_vector = np.zeros(len(symptoms_dict))\n",
    "\n",
    "    for item in patient_symptoms:\n",
    "        input_vector[symptoms_dict[item]] = 1\n",
    "    return diseases_list[svc.predict([input_vector])[0]]"
   ]
  },
  {
   "cell_type": "code",
   "execution_count": 36,
   "id": "e195a71e-5176-4419-b339-e72a07543d47",
   "metadata": {},
   "outputs": [],
   "source": [
    "def get_disease_info(dis):\n",
    "    desc = description[description['Disease'] == predicted_disease]['Description']\n",
    "    desc = \" \".join([w for w in desc])\n",
    "\n",
    "    pre = precautions[precautions['Disease'] == dis][['Precaution_1', 'Precaution_2', 'Precaution_3', 'Precaution_4']]\n",
    "    pre = [col for col in pre.values]\n",
    "\n",
    "    med = medications[medications['Disease'] == dis]['Medication']\n",
    "    med = [med for med in med.values]\n",
    "\n",
    "    die = diets[diets['Disease'] == dis]['Diet']\n",
    "    die = [die for die in die.values]\n",
    "\n",
    "    wrkout = workout[workout['disease'] == dis] ['workout']\n",
    "\n",
    "\n",
    "    return desc,pre,med,die,wrkout"
   ]
  },
  {
   "cell_type": "code",
   "execution_count": 29,
   "id": "adfbf22b-9dc5-4a5c-850c-a679b0a5f8cc",
   "metadata": {},
   "outputs": [
    {
     "name": "stdin",
     "output_type": "stream",
     "text": [
      "enter your symptoms belly_pain, loss_of_appetite, diarrhoea\n"
     ]
    }
   ],
   "source": [
    "# test\n",
    "symptoms = input(\"enter your symptoms\")"
   ]
  },
  {
   "cell_type": "code",
   "execution_count": 30,
   "id": "c8fcb0ca-356b-4b76-84cb-b21948fcd4ba",
   "metadata": {},
   "outputs": [
    {
     "name": "stderr",
     "output_type": "stream",
     "text": [
      "/home/edwin/.local/lib/python3.11/site-packages/sklearn/base.py:493: UserWarning: X does not have valid feature names, but SVC was fitted with feature names\n",
      "  warnings.warn(\n"
     ]
    }
   ],
   "source": [
    "user_symptoms = [s.strip() for s in symptoms.split(', ')]\n",
    "user_symptoms = [sym.strip(\"[]' \") for sym in user_symptoms]\n",
    "predicted_disease = get_predicted_value(user_symptoms)"
   ]
  },
  {
   "cell_type": "code",
   "execution_count": 31,
   "id": "e2f5f09f-0292-4da3-b5f9-dacd0779cf41",
   "metadata": {},
   "outputs": [],
   "source": [
    "descr = description[description['Disease']== predicted_disease]['Description']\n",
    "descr = ' '.join([w for w in descr])"
   ]
  },
  {
   "cell_type": "code",
   "execution_count": 35,
   "id": "fdcc20ba-7f2a-4f51-b543-7127e29fd034",
   "metadata": {},
   "outputs": [
    {
     "data": {
      "text/html": [
       "<div>\n",
       "<style scoped>\n",
       "    .dataframe tbody tr th:only-of-type {\n",
       "        vertical-align: middle;\n",
       "    }\n",
       "\n",
       "    .dataframe tbody tr th {\n",
       "        vertical-align: top;\n",
       "    }\n",
       "\n",
       "    .dataframe thead th {\n",
       "        text-align: right;\n",
       "    }\n",
       "</style>\n",
       "<table border=\"1\" class=\"dataframe\">\n",
       "  <thead>\n",
       "    <tr style=\"text-align: right;\">\n",
       "      <th></th>\n",
       "      <th>Precaution_1</th>\n",
       "      <th>Precaution_2</th>\n",
       "      <th>Precaution_3</th>\n",
       "      <th>Precaution_4</th>\n",
       "    </tr>\n",
       "  </thead>\n",
       "  <tbody>\n",
       "    <tr>\n",
       "      <th>39</th>\n",
       "      <td>stop eating solid food for while</td>\n",
       "      <td>try taking small sips of water</td>\n",
       "      <td>rest</td>\n",
       "      <td>ease back into eating</td>\n",
       "    </tr>\n",
       "  </tbody>\n",
       "</table>\n",
       "</div>"
      ],
      "text/plain": [
       "                        Precaution_1                    Precaution_2  \\\n",
       "39  stop eating solid food for while  try taking small sips of water   \n",
       "\n",
       "   Precaution_3           Precaution_4  \n",
       "39         rest  ease back into eating  "
      ]
     },
     "execution_count": 35,
     "metadata": {},
     "output_type": "execute_result"
    }
   ],
   "source": [
    "pre = precautions[precautions['Disease']== predicted_disease][['Precaution_1','Precaution_2','Precaution_3','Precaution_4']]\n",
    "pre = [col for col in pre.values]"
   ]
  },
  {
   "cell_type": "code",
   "execution_count": 48,
   "id": "206a00c3-0a0f-4de7-8d75-a20418f993c6",
   "metadata": {},
   "outputs": [
    {
     "name": "stdin",
     "output_type": "stream",
     "text": [
      "enter your symptoms headache, cough, fatigue, continuous_sneezing\n"
     ]
    }
   ],
   "source": [
    "# test 2\n",
    "symptoms = input(\"enter your symptoms\")"
   ]
  },
  {
   "cell_type": "code",
   "execution_count": 49,
   "id": "63fc6a78-79d3-44ab-a8f1-99673d0d7e5b",
   "metadata": {},
   "outputs": [
    {
     "name": "stderr",
     "output_type": "stream",
     "text": [
      "/home/edwin/.local/lib/python3.11/site-packages/sklearn/base.py:493: UserWarning: X does not have valid feature names, but SVC was fitted with feature names\n",
      "  warnings.warn(\n"
     ]
    }
   ],
   "source": [
    "user_symptoms = [s.strip() for s in symptoms.split(', ')]\n",
    "user_symptoms = [sym.strip(\"[]' \") for sym in user_symptoms]\n",
    "predicted_disease = get_predicted_value(user_symptoms)\n",
    "desc,pre,med,die,wrkout = get_disease_info(predicted_disease)"
   ]
  },
  {
   "cell_type": "code",
   "execution_count": 50,
   "id": "e3fab4df-11b2-46c1-9a4e-b9da27de9e25",
   "metadata": {},
   "outputs": [
    {
     "data": {
      "text/plain": [
       "'Allergy'"
      ]
     },
     "execution_count": 50,
     "metadata": {},
     "output_type": "execute_result"
    }
   ],
   "source": []
  },
  {
   "cell_type": "code",
   "execution_count": 52,
   "id": "86c8072e-067a-4a72-9d5c-434d5591bd4d",
   "metadata": {},
   "outputs": [
    {
     "name": "stdout",
     "output_type": "stream",
     "text": [
      "=================predicted disease============\n",
      "Allergy\n",
      "=================description==================\n",
      "Allergy is an immune system reaction to a substance in the environment.\n",
      "=================precautions==================\n",
      "1 :  apply calamine\n",
      "2 :  cover area with bandage\n",
      "3 :  nan\n",
      "4 :  use ice to compress itching\n",
      "=================medications==================\n",
      "5 :  ['Antihistamines', 'Decongestants', 'Epinephrine', 'Corticosteroids', 'Immunotherapy']\n",
      "=================workout==================\n",
      "6 :  Avoid allergenic foods\n",
      "7 :  Consume anti-inflammatory foods\n",
      "8 :  Include omega-3 fatty acids\n",
      "9 :  Stay hydrated\n",
      "10 :  Eat foods rich in vitamin C\n",
      "11 :  Include quercetin-rich foods\n",
      "12 :  Consume local honey\n",
      "13 :  Limit processed foods\n",
      "14 :  Include ginger in diet\n",
      "15 :  Avoid artificial additives\n",
      "=================diets==================\n",
      "16 :  ['Elimination Diet', 'Omega-3-rich foods', 'Vitamin C-rich foods', 'Quercetin-rich foods', 'Probiotics']\n"
     ]
    }
   ],
   "source": [
    "print(\"=================predicted disease============\")\n",
    "print(predicted_disease)\n",
    "print(\"=================description==================\")\n",
    "print(desc)\n",
    "print(\"=================precautions==================\")\n",
    "i = 1\n",
    "for p_i in pre[0]:\n",
    "    print(i, \": \", p_i)\n",
    "    i += 1\n",
    "\n",
    "print(\"=================medications==================\")\n",
    "for m_i in med:\n",
    "    print(i, \": \", m_i)\n",
    "    i += 1\n",
    "\n",
    "print(\"=================workout==================\")\n",
    "for w_i in wrkout:\n",
    "    print(i, \": \", w_i)\n",
    "    i += 1\n",
    "\n",
    "print(\"=================diets==================\")\n",
    "for d_i in die:\n",
    "    print(i, \": \", d_i)\n",
    "    i += 1"
   ]
  },
  {
   "cell_type": "code",
   "execution_count": null,
   "id": "e3156c79-20b1-4743-b3ef-a8a85ad14475",
   "metadata": {},
   "outputs": [],
   "source": []
  }
 ],
 "metadata": {
  "kernelspec": {
   "display_name": "Python 3 (ipykernel)",
   "language": "python",
   "name": "python3"
  },
  "language_info": {
   "codemirror_mode": {
    "name": "ipython",
    "version": 3
   },
   "file_extension": ".py",
   "mimetype": "text/x-python",
   "name": "python",
   "nbconvert_exporter": "python",
   "pygments_lexer": "ipython3",
   "version": "3.11.4"
  }
 },
 "nbformat": 4,
 "nbformat_minor": 5
}
